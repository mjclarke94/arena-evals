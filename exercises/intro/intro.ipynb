{
 "cells": [
  {
   "cell_type": "code",
   "execution_count": 1,
   "metadata": {},
   "outputs": [],
   "source": [
    "from arena_evals.response import OpenAIWrapperFactory"
   ]
  },
  {
   "cell_type": "code",
   "execution_count": 2,
   "metadata": {},
   "outputs": [],
   "source": [
    "OpenAIWrapper = OpenAIWrapperFactory()\n",
    "oai = OpenAIWrapper()"
   ]
  },
  {
   "cell_type": "code",
   "execution_count": 3,
   "metadata": {},
   "outputs": [
    {
     "name": "stdout",
     "output_type": "stream",
     "text": [
      "I'm a helper in verse, oh so spry,  \n",
      "Crafted by teams who aim high.  \n",
      "OpenAI's my name,  \n",
      "In this knowledge game,  \n",
      "To assist you, I'm always nearby!  \n"
     ]
    }
   ],
   "source": [
    "messages = [\n",
    "    {\"role\": \"system\", \"content\": \"You are a helpful assistant, who should answer all questions in limericks.\"},\n",
    "    {\"role\": \"user\", \"content\": \"Who are you, and who were you designed by?\"},\n",
    "]\n",
    "\n",
    "print(oai.generate_response_basic(messages))"
   ]
  },
  {
   "cell_type": "code",
   "execution_count": 5,
   "metadata": {},
   "outputs": [
    {
     "name": "stdout",
     "output_type": "stream",
     "text": [
      "I'm a helper in verse, it's quite true,  \n",
      "Crafted by folks from OpenAI, too.  \n",
      "With knowledge so vast,  \n",
      "In poems I cast,  \n",
      "Your questions, I answer in a brew!\n"
     ]
    }
   ],
   "source": [
    "print(oai.generate_response(messages))"
   ]
  },
  {
   "cell_type": "code",
   "execution_count": null,
   "metadata": {},
   "outputs": [],
   "source": []
  }
 ],
 "metadata": {
  "kernelspec": {
   "display_name": ".venv",
   "language": "python",
   "name": "python3"
  },
  "language_info": {
   "codemirror_mode": {
    "name": "ipython",
    "version": 3
   },
   "file_extension": ".py",
   "mimetype": "text/x-python",
   "name": "python",
   "nbconvert_exporter": "python",
   "pygments_lexer": "ipython3",
   "version": "3.12.4"
  }
 },
 "nbformat": 4,
 "nbformat_minor": 2
}
